{
  "cells": [
    {
      "cell_type": "markdown",
      "metadata": {
        "id": "4M_eJxepJjMU"
      },
      "source": [
        "We first get necessary external data and code"
      ]
    },
    {
      "cell_type": "code",
      "execution_count": 2,
      "metadata": {
        "id": "D8RG4iRoCRUE"
      },
      "outputs": [],
      "source": [
        "import os\n",
        "import sys\n",
        "\n",
        "sys.path.append(\"../\")\n",
        "from deepinterpolation.generator_collection import SingleTifGenerator, MultiContinuousTifGenerator\n",
        "from deepinterpolation.trainor_collection import core_trainer\n",
        "from deepinterpolation.network_collection import unet_single_1024\n",
        "import datetime\n",
        "\n",
        "import tkinter.filedialog"
      ]
    },
    {
      "cell_type": "markdown",
      "metadata": {
        "id": "1Nogrv6xClZQ"
      },
      "source": [
        "This is used for record-keeping\n"
      ]
    },
    {
      "cell_type": "code",
      "execution_count": 3,
      "metadata": {
        "id": "lwuBrQ_jC6Ya"
      },
      "outputs": [],
      "source": [
        "now = datetime.datetime.now()\n",
        "run_uid = now.strftime(\"%Y_%m_%d_%H_%M\")"
      ]
    },
    {
      "cell_type": "markdown",
      "metadata": {
        "id": "iPO8knNmC62U"
      },
      "source": [
        "Initialize meta-parameters objects"
      ]
    },
    {
      "cell_type": "code",
      "execution_count": 4,
      "metadata": {
        "id": "5HMK5cRDC-gz"
      },
      "outputs": [],
      "source": [
        "training_param = {}\n",
        "generator_param = {}\n",
        "network_param = {}\n",
        "generator_test_param = {}"
      ]
    },
    {
      "cell_type": "markdown",
      "metadata": {
        "id": "nn7PSaI-C-01"
      },
      "source": [
        "An epoch is defined as the number of batches pulled from the dataset. Because our datasets are VERY large. Often, we cannot\n",
        "go through the entirity of the data so we define an epoch slightly differently than is usual."
      ]
    },
    {
      "cell_type": "code",
      "execution_count": 5,
      "metadata": {
        "id": "CzKVMosLDCsb"
      },
      "outputs": [],
      "source": [
        "steps_per_epoch = 10\n",
        "pre_post_frame = 30"
      ]
    },
    {
      "cell_type": "markdown",
      "metadata": {
        "id": "i7s66NK5DCx_"
      },
      "source": [
        "Those are parameters used for the Validation test generator. Here the test is done on the beginning of the data but\n",
        "this can be a separate file.\n"
      ]
    },
    {
      "cell_type": "code",
      "execution_count": 14,
      "metadata": {},
      "outputs": [],
      "source": [
        "# Those are parameters used for the Validation test generator. Here the\n",
        "# test is done on the beginning of the data but\n",
        "# this can be a separate file\n",
        "generator_test_param[\n",
        "    \"pre_post_frame\"\n",
        "] = pre_post_frame  # Number of frame provided before and after the predicted frame\n",
        "# filePath = tkinter.filedialog.askopenfilename()\n",
        "filePath = \"D:/deepinterpolation/sample_data/reg_tif\"\n",
        "filePath = \"D:/deepinterpolation/sample_data/continuous_tif\"\n",
        "generator_test_param[\"train_path\"] = filePath\n",
        "generator_test_param[\"batch_size\"] = 5\n",
        "generator_test_param[\"start_frame\"] = 0\n",
        "generator_test_param[\"end_frame\"] = 99\n",
        "generator_test_param[\n",
        "    \"pre_post_omission\"\n",
        "] = 1  # Number of frame omitted before and after the predicted frame\n",
        "generator_test_param[\n",
        "    \"steps_per_epoch\"\n",
        "] = -1\n",
        "# No step necessary for testing as epochs are not relevant.\n",
        "# -1 deactivate it."
      ]
    },
    {
      "cell_type": "code",
      "execution_count": 15,
      "metadata": {
        "id": "3VsVLdJEC-8k"
      },
      "outputs": [],
      "source": [
        "generator_param[\"steps_per_epoch\"] = steps_per_epoch\n",
        "generator_param[\n",
        "    \"pre_post_frame\"\n",
        "] = generator_test_param[\"pre_post_frame\"]  # Number of frame provided before and after the predicted frame\n",
        "# In practice the test and validation would point at different files or different portion of files. But for demo, we have little data available\n",
        "\n",
        "generator_param[\"train_path\"] = filePath\n",
        "generator_param[\"batch_size\"] = 1\n",
        "generator_param[\"start_frame\"] = 0\n",
        "generator_param[\"end_frame\"] = 99\n",
        "generator_param[\n",
        "    \"pre_post_omission\"\n",
        "] = 0  # Number of frame omitted before and after the predicted frame\n",
        "generator_param[\"steps_per_epoch\"] = -1  # No step necessary for testing as epochs are not relevant. -1 deactivate it."
      ]
    },
    {
      "cell_type": "markdown",
      "metadata": {
        "id": "Z7e0BhTBEH_L"
      },
      "source": [
        "Those are parameters used for the main data generator"
      ]
    },
    {
      "cell_type": "code",
      "execution_count": 16,
      "metadata": {},
      "outputs": [
        {
          "data": {
            "text/plain": [
              "'D:/deepinterpolation/sample_data/continuous_tif'"
            ]
          },
          "execution_count": 16,
          "metadata": {},
          "output_type": "execute_result"
        }
      ],
      "source": [
        "generator_param[\"train_path\"]"
      ]
    },
    {
      "cell_type": "markdown",
      "metadata": {
        "id": "sbvS5Y1yERiY"
      },
      "source": [
        "Those are parameters used for the network topology"
      ]
    },
    {
      "cell_type": "markdown",
      "metadata": {
        "id": "iAu-UN8zEjxz"
      },
      "source": [
        "Those are parameters used for the training process"
      ]
    },
    {
      "cell_type": "code",
      "execution_count": 17,
      "metadata": {
        "id": "VjINOf20EkCz"
      },
      "outputs": [],
      "source": [
        "training_param[\"run_uid\"] = run_uid\n",
        "training_param[\"batch_size\"] = generator_test_param[\"batch_size\"]\n",
        "training_param[\"steps_per_epoch\"] = steps_per_epoch\n",
        "training_param[\n",
        "    \"period_save\"\n",
        "] = 25  # network model is potentially saved during training between a regular nb epochs\n",
        "training_param[\"nb_gpus\"] = 0\n",
        "training_param[\"apply_learning_decay\"] = 0\n",
        "training_param[\n",
        "    \"nb_times_through_data\"\n",
        "] = 1  # if you want to cycle through the entire data. Two many iterations will cause noise overfitting\n",
        "training_param[\"learning_rate\"] = 0.0001\n",
        "training_param[\"pre_post_frame\"] = generator_test_param[\"pre_post_frame\"]\n",
        "training_param[\"loss\"] = \"mean_absolute_error\"\n",
        "training_param[\n",
        "    \"nb_workers\"\n",
        "] = 1  # this is to enable multiple threads for data generator loading. Useful when this is slower than training\n",
        "\n",
        "training_param[\"model_string\"] = (\n",
        "    \"unet_single_1024_\"\n",
        "    + training_param[\"loss\"]\n",
        "    + \"_\"\n",
        "    + training_param[\"run_uid\"]\n",
        ")"
      ]
    },
    {
      "cell_type": "markdown",
      "metadata": {
        "id": "STXWqSIHEkSr"
      },
      "source": [
        "Where do you store ongoing training progress"
      ]
    },
    {
      "cell_type": "code",
      "execution_count": 18,
      "metadata": {
        "id": "3a_PwgRGEkjx"
      },
      "outputs": [
        {
          "name": "stdout",
          "output_type": "stream",
          "text": [
            "folder already exists\n"
          ]
        }
      ],
      "source": [
        "jobdir = os.path.join(\n",
        "    training_param[\"model_string\"] + \"_\" + run_uid,\n",
        ")\n",
        "training_param[\"output_dir\"] = jobdir\n",
        "\n",
        "try:\n",
        "    os.mkdir(jobdir)\n",
        "except:\n",
        "    print(\"folder already exists\")"
      ]
    },
    {
      "cell_type": "code",
      "execution_count": 19,
      "metadata": {},
      "outputs": [
        {
          "data": {
            "text/plain": [
              "'unet_single_1024_mean_absolute_error_2024_10_24_18_52_2024_10_24_18_52'"
            ]
          },
          "execution_count": 19,
          "metadata": {},
          "output_type": "execute_result"
        }
      ],
      "source": [
        "jobdir"
      ]
    },
    {
      "cell_type": "code",
      "execution_count": 20,
      "metadata": {},
      "outputs": [
        {
          "data": {
            "text/plain": [
              "'unet_single_1024_mean_absolute_error_2024_10_24_18_52_2024_10_24_18_52'"
            ]
          },
          "execution_count": 20,
          "metadata": {},
          "output_type": "execute_result"
        }
      ],
      "source": [
        "training_param[\"output_dir\"]"
      ]
    },
    {
      "cell_type": "markdown",
      "metadata": {
        "id": "Gtk6kyuYE0qC"
      },
      "source": [
        "Here we create all json files that are fed to the training. This is used for recording purposes as well as input to the training proces"
      ]
    },
    {
      "cell_type": "markdown",
      "metadata": {
        "id": "s5O5T6EmE7ss"
      },
      "source": [
        "Here we create all objects for training."
      ]
    },
    {
      "cell_type": "code",
      "execution_count": 21,
      "metadata": {
        "colab": {
          "base_uri": "https://localhost:8080/"
        },
        "id": "RrOO6Pc7E71m",
        "outputId": "44c55219-8b15-43f9-ebdf-23efb0833b3d"
      },
      "outputs": [
        {
          "name": "stdout",
          "output_type": "stream",
          "text": [
            "['D:/deepinterpolation/sample_data/continuous_tif\\\\AN13-f1-z120_240610_2-preWsk_trial001_1-500.tif', 'D:/deepinterpolation/sample_data/continuous_tif\\\\AN13-f1-z120_240610_2-preWsk_trial001_1001-1500.tif', 'D:/deepinterpolation/sample_data/continuous_tif\\\\AN13-f1-z120_240610_2-preWsk_trial001_1501-1886.tif', 'D:/deepinterpolation/sample_data/continuous_tif\\\\AN13-f1-z120_240610_2-preWsk_trial001_501-1000.tif']\n",
            "['D:/deepinterpolation/sample_data/continuous_tif\\\\AN13-f1-z120_240610_2-preWsk_trial001_1-500.tif', 'D:/deepinterpolation/sample_data/continuous_tif\\\\AN13-f1-z120_240610_2-preWsk_trial001_1001-1500.tif', 'D:/deepinterpolation/sample_data/continuous_tif\\\\AN13-f1-z120_240610_2-preWsk_trial001_1501-1886.tif', 'D:/deepinterpolation/sample_data/continuous_tif\\\\AN13-f1-z120_240610_2-preWsk_trial001_501-1000.tif']\n",
            "WARNING:tensorflow:`period` argument is deprecated. Please use `save_freq` to specify the frequency in number of batches seen.\n"
          ]
        }
      ],
      "source": [
        "# We build the generators object. This will, among other things, calculate normalizing parameters.\n",
        "# train_generator = SingleTifGenerator(generator_param)\n",
        "# test_generator = SingleTifGenerator(generator_test_param)\n",
        "train_generator = MultiContinuousTifGenerator(generator_param)\n",
        "test_generator = MultiContinuousTifGenerator(generator_test_param)\n",
        "\n",
        "# We build the training object.\n",
        "training_class = core_trainer(train_generator, test_generator, unet_single_1024({}), training_param)"
      ]
    },
    {
      "cell_type": "markdown",
      "metadata": {
        "id": "LpVKYBcsCCuz"
      },
      "source": [
        "Start training. This can take very long time."
      ]
    },
    {
      "cell_type": "code",
      "execution_count": 14,
      "metadata": {
        "colab": {
          "base_uri": "https://localhost:8080/"
        },
        "id": "6Hw-IUVbAxSw",
        "outputId": "0544b182-caa1-493a-f9e3-c5080375c02d"
      },
      "outputs": [
        {
          "name": "stdout",
          "output_type": "stream",
          "text": [
            "(500, 512, 512)\n",
            "(500, 512, 512)\n",
            "(500, 512, 512)\n",
            "(500, 512, 512)\n",
            "(500, 512, 512)\n",
            "(500, 512, 512)\n",
            "(500, 512, 512)\n",
            "(500, 512, 512)\n",
            "(500, 512, 512)\n",
            "(500, 512, 512)\n",
            "(500, 512, 512)\n",
            "(500, 512, 512)\n",
            "(500, 512, 512)\n",
            "(500, 512, 512)\n",
            "(500, 512, 512)\n",
            "(500, 512, 512)\n",
            "(500, 512, 512)\n",
            "(500, 512, 512)\n",
            "(500, 512, 512)\n",
            "(500, 512, 512)\n",
            "(500, 512, 512)\n",
            "(500, 512, 512)\n",
            "(500, 512, 512)\n",
            "(500, 512, 512)\n",
            "(500, 512, 512)\n",
            "(500, 512, 512)\n",
            "(500, 512, 512)\n",
            "(500, 512, 512)\n",
            "(500, 512, 512)\n",
            "(500, 512, 512)\n",
            "(500, 512, 512)\n",
            "(500, 512, 512)\n",
            "(500, 512, 512)\n",
            "(500, 512, 512)\n",
            "(500, 512, 512)\n",
            "(500, 512, 512)\n",
            "(500, 512, 512)\n",
            "(500, 512, 512)\n",
            "(500, 512, 512)\n",
            "(500, 512, 512)\n",
            "(500, 512, 512)\n",
            "(500, 512, 512)\n",
            "(500, 512, 512)\n",
            "(500, 512, 512)\n",
            "(500, 512, 512)\n",
            "(500, 512, 512)\n",
            "(500, 512, 512)\n",
            "(500, 512, 512)\n",
            "(500, 512, 512)\n",
            "(500, 512, 512)\n",
            "(500, 512, 512)\n",
            "(500, 512, 512)\n",
            "(500, 512, 512)\n",
            "(500, 512, 512)\n",
            "(500, 512, 512)\n",
            "(500, 512, 512)\n",
            "(500, 512, 512)\n",
            "(500, 512, 512)\n",
            "(500, 512, 512)\n",
            "(500, 512, 512)\n",
            "(500, 512, 512)\n",
            "(500, 512, 512)\n",
            "(500, 512, 512)\n",
            "(500, 512, 512)\n",
            "(500, 512, 512)\n",
            "(500, 512, 512)\n",
            "(500, 512, 512)\n",
            "(500, 512, 512)\n",
            "(500, 512, 512)\n",
            "(500, 512, 512)\n",
            "(500, 512, 512)\n",
            "(500, 512, 512)\n",
            "(500, 512, 512)\n",
            "(500, 512, 512)\n",
            "(500, 512, 512)\n",
            "Epoch 1/7\n",
            "WARNING:tensorflow:multiprocessing can interact badly with TensorFlow, causing nondeterministic deadlocks. For high performance data pipelines tf.data is recommended.\n",
            "10/10 [==============================] - 32s 1s/step - loss: 1.1600 - val_loss: 0.5457\n",
            "Epoch 2/7\n",
            "WARNING:tensorflow:multiprocessing can interact badly with TensorFlow, causing nondeterministic deadlocks. For high performance data pipelines tf.data is recommended.\n",
            "10/10 [==============================] - 6s 326ms/step - loss: 0.5461 - val_loss: 0.5288\n",
            "Epoch 3/7\n",
            "WARNING:tensorflow:multiprocessing can interact badly with TensorFlow, causing nondeterministic deadlocks. For high performance data pipelines tf.data is recommended.\n",
            "10/10 [==============================] - 6s 369ms/step - loss: 0.5378 - val_loss: 0.5247\n",
            "Epoch 4/7\n",
            "WARNING:tensorflow:multiprocessing can interact badly with TensorFlow, causing nondeterministic deadlocks. For high performance data pipelines tf.data is recommended.\n",
            "10/10 [==============================] - 6s 354ms/step - loss: 0.5300 - val_loss: 0.5226\n",
            "Epoch 5/7\n",
            "WARNING:tensorflow:multiprocessing can interact badly with TensorFlow, causing nondeterministic deadlocks. For high performance data pipelines tf.data is recommended.\n",
            "10/10 [==============================] - 7s 388ms/step - loss: 0.5240 - val_loss: 0.5185\n",
            "Epoch 6/7\n",
            "WARNING:tensorflow:multiprocessing can interact badly with TensorFlow, causing nondeterministic deadlocks. For high performance data pipelines tf.data is recommended.\n",
            "10/10 [==============================] - 6s 359ms/step - loss: 0.5189 - val_loss: 0.5135\n",
            "Epoch 7/7\n",
            "WARNING:tensorflow:multiprocessing can interact badly with TensorFlow, causing nondeterministic deadlocks. For high performance data pipelines tf.data is recommended.\n",
            "10/10 [==============================] - 6s 330ms/step - loss: 0.5140 - val_loss: 0.5098\n"
          ]
        }
      ],
      "source": [
        "training_class.run()"
      ]
    },
    {
      "cell_type": "markdown",
      "metadata": {
        "id": "FedXESQAB7f7"
      },
      "source": [
        "Finalize and save output of the training."
      ]
    },
    {
      "cell_type": "code",
      "execution_count": 25,
      "metadata": {},
      "outputs": [
        {
          "data": {
            "text/plain": [
              "'unet_single_1024_mean_absolute_error_2024_10_23_10_36_2024_10_23_10_36'"
            ]
          },
          "execution_count": 25,
          "metadata": {},
          "output_type": "execute_result"
        }
      ],
      "source": [
        "training_class.checkpoints_dir"
      ]
    },
    {
      "cell_type": "code",
      "execution_count": 26,
      "metadata": {},
      "outputs": [
        {
          "data": {
            "text/plain": [
              "'2024_10_23_10_36'"
            ]
          },
          "execution_count": 26,
          "metadata": {},
          "output_type": "execute_result"
        }
      ],
      "source": [
        "training_class.run_uid"
      ]
    },
    {
      "cell_type": "code",
      "execution_count": 27,
      "metadata": {},
      "outputs": [
        {
          "data": {
            "text/plain": [
              "'unet_single_1024_mean_absolute_error_2024_10_23_10_36'"
            ]
          },
          "execution_count": 27,
          "metadata": {},
          "output_type": "execute_result"
        }
      ],
      "source": [
        "training_class.model_string "
      ]
    },
    {
      "cell_type": "code",
      "execution_count": 15,
      "metadata": {
        "colab": {
          "base_uri": "https://localhost:8080/"
        },
        "id": "EGgJLL5hA0N8",
        "outputId": "4b571095-942c-4300-8253-e655fedb064a"
      },
      "outputs": [
        {
          "name": "stdout",
          "output_type": "stream",
          "text": [
            "Saved model to disk\n"
          ]
        }
      ],
      "source": [
        "training_class.finalize()"
      ]
    },
    {
      "cell_type": "code",
      "execution_count": 16,
      "metadata": {},
      "outputs": [
        {
          "data": {
            "text/plain": [
              "{'run_uid': '2024_10_11_17_44',\n",
              " 'batch_size': 1,\n",
              " 'steps_per_epoch': 5,\n",
              " 'period_save': 25,\n",
              " 'nb_gpus': 0,\n",
              " 'apply_learning_decay': 0,\n",
              " 'nb_times_through_data': 1,\n",
              " 'learning_rate': 0.0001,\n",
              " 'pre_post_frame': 30,\n",
              " 'loss': 'mean_absolute_error',\n",
              " 'nb_workers': 1,\n",
              " 'model_string': 'unet_single_1024_mean_absolute_error_2024_10_11_17_44',\n",
              " 'output_dir': 'unet_single_1024_mean_absolute_error_2024_10_11_17_44_2024_10_11_17_44'}"
            ]
          },
          "execution_count": 16,
          "metadata": {},
          "output_type": "execute_result"
        }
      ],
      "source": [
        "training_param"
      ]
    }
  ],
  "metadata": {
    "colab": {
      "collapsed_sections": [],
      "name": "example_tiny_ephys_training.ipynb",
      "provenance": [],
      "toc_visible": true
    },
    "kernelspec": {
      "display_name": "DIP38",
      "language": "python",
      "name": "python3"
    },
    "language_info": {
      "codemirror_mode": {
        "name": "ipython",
        "version": 3
      },
      "file_extension": ".py",
      "mimetype": "text/x-python",
      "name": "python",
      "nbconvert_exporter": "python",
      "pygments_lexer": "ipython3",
      "version": "3.8.20"
    }
  },
  "nbformat": 4,
  "nbformat_minor": 0
}
